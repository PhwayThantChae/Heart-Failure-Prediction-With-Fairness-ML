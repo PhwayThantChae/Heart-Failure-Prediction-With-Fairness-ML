{
 "cells": [
  {
   "attachments": {},
   "cell_type": "markdown",
   "metadata": {},
   "source": [
    "#### 1.1 Import data & Data cleaning"
   ]
  },
  {
   "cell_type": "code",
   "execution_count": null,
   "metadata": {},
   "outputs": [],
   "source": [
    "import pandas as pd\n",
    "\n",
    "data = pd.read_csv(\"data/heart.csv\")\n",
    "df = pd.DataFrame(data)\n",
    "\n",
    "df.head(10)"
   ]
  },
  {
   "attachments": {},
   "cell_type": "markdown",
   "metadata": {},
   "source": [
    "#### 1.2 One hot encoding for categorical data"
   ]
  },
  {
   "cell_type": "code",
   "execution_count": null,
   "metadata": {},
   "outputs": [],
   "source": [
    "categorical_columns = ['ChestPainType', 'RestingECG', 'ExerciseAngina', 'ST_Slope']\n",
    "\n",
    "# ct = ColumnTransformer(transformers=[('encoder', OneHotEncoder(), categorical_columns)], remainder='passthrough')\n",
    "# df_encoded = ct.fit_transform(df)\n",
    "\n",
    "# column_names = ct.get_feature_names_out()\n",
    "# df_encoded = pd.DataFrame(df_encoded, columns=column_names)\n",
    "\n",
    "# # Display the first 10 rows of the transformed DataFrame\n",
    "# print(df_encoded.head(10))\n",
    "\n",
    "# df_encoded = pd.get_dummies(df, columns=categorical_columns, drop_first=True)\n",
    "# df_encoded.head(10)\n",
    "\n",
    "df.loc[df.Sex == 'M', 'Sex'] = 1\n",
    "df.loc[df.Sex == 'F', 'Sex'] = 0\n",
    "\n",
    "for feature in categorical_columns:\n",
    "    onehot = pd.get_dummies(df[feature], prefix=feature)\n",
    "    df = df.drop(feature, axis=1)\n",
    "    df = df.join(onehot)\n",
    "\n",
    "df.head(10)"
   ]
  }
 ],
 "metadata": {
  "kernelspec": {
   "display_name": "Python 3",
   "language": "python",
   "name": "python3"
  },
  "language_info": {
   "name": "python",
   "version": "3.8.10"
  },
  "orig_nbformat": 4,
  "vscode": {
   "interpreter": {
    "hash": "916dbcbb3f70747c44a77c7bcd40155683ae19c65e1c03b4aa3499c5328201f1"
   }
  }
 },
 "nbformat": 4,
 "nbformat_minor": 2
}
