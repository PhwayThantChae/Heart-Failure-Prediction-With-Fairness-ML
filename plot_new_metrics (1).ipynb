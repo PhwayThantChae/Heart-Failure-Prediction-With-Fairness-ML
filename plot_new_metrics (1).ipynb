{
 "cells": [
  {
   "cell_type": "markdown",
   "metadata": {},
   "source": [
    "Metrics with Multiple Features\n",
    "==============================\n"
   ]
  },
  {
   "cell_type": "markdown",
   "metadata": {},
   "source": [
    "This notebook demonstrates the new API for metrics, which supports\n",
    "multiple sensitive and conditional features. This example does not\n",
    "contain a proper discussion of how fairness relates to the dataset used,\n",
    "although it does highlight issues which users may want to consider when\n",
    "analysing their datasets.\n",
    "\n",
    "We are going to consider a lending scenario, supposing that we have a\n",
    "model which predicts whether or not a particular customer will repay a\n",
    "loan. This could be used as the basis of deciding whether or not to\n",
    "offer that customer a loan. With traditional metrics, we would assess\n",
    "the model using:\n",
    "\n",
    "-   The \\'true\\' values from the test set\n",
    "-   The model predictions from the test set\n",
    "\n",
    "Our fairness metrics compute group-based fairness statistics. To use\n",
    "these, we also need categorical columns from the test set. For this\n",
    "example, we will include:\n",
    "\n",
    "-   The sex of each individual (two unique values)\n",
    "-   The race of each individual (three unique values)\n",
    "-   The credit score band of each individual (three unique values)\n",
    "-   Whether the loan is considered \\'large\\' or \\'small\\'\n",
    "\n",
    "An individual\\'s sex and race should not affect a lending decision, but\n",
    "it would be legitimate to consider an individual\\'s credit score and the\n",
    "relative size of the loan which they desired.\n",
    "\n",
    "A real scenario will be more complicated, but this will serve to\n",
    "illustrate the use of the new metrics.\n",
    "\n",
    "Getting the Data\n",
    "================\n",
    "\n",
    "*This section may be skipped. It simply creates a dataset for\n",
    "illustrative purposes*\n",
    "\n",
    "We will use the well-known UCI \\'Adult\\' dataset as the basis of this\n",
    "demonstration. This is not for a lending scenario, but we will regard it\n",
    "as one for the purposes of this example. We will use the existing\n",
    "\\'race\\' and \\'sex\\' columns (trimming the former to three unique\n",
    "values), and manufacture credit score bands and loan sizes from other\n",
    "columns. We start with some uncontroversial [import]{.title-ref}\n",
    "statements:\n"
   ]
  },
  {
   "cell_type": "code",
   "execution_count": 2,
   "metadata": {},
   "outputs": [],
   "source": [
    "import functools\n",
    "\n",
    "import numpy as np\n",
    "import sklearn.metrics as skm\n",
    "from sklearn.compose import ColumnTransformer\n",
    "from sklearn.compose import make_column_selector as selector\n",
    "from sklearn.impute import SimpleImputer\n",
    "from sklearn.linear_model import LogisticRegression\n",
    "from sklearn.model_selection import train_test_split\n",
    "from sklearn.pipeline import Pipeline\n",
    "from sklearn.preprocessing import OneHotEncoder, StandardScaler\n",
    "\n",
    "from fairlearn.datasets import fetch_adult\n",
    "from fairlearn.metrics import MetricFrame, count, selection_rate"
   ]
  },
  {
   "cell_type": "markdown",
   "metadata": {},
   "source": [
    "Next, we import the data:\n"
   ]
  },
  {
   "cell_type": "code",
   "execution_count": 3,
   "metadata": {},
   "outputs": [],
   "source": [
    "data = fetch_adult()\n",
    "X_raw = data.data\n",
    "y = (data.target == \">50K\") * 1"
   ]
  },
  {
   "cell_type": "markdown",
   "metadata": {},
   "source": [
    "For purposes of clarity, we consolidate the \\'race\\' column to have\n",
    "three unique values:\n"
   ]
  },
  {
   "cell_type": "code",
   "execution_count": 4,
   "metadata": {},
   "outputs": [
    {
     "name": "stdout",
     "output_type": "stream",
     "text": [
      "['Black' 'Other' 'White']\n"
     ]
    },
    {
     "name": "stderr",
     "output_type": "stream",
     "text": [
      "C:\\Users\\Yerin\\AppData\\Local\\Temp\\ipykernel_46480\\1847876707.py:9: SettingWithCopyWarning: \n",
      "A value is trying to be set on a copy of a slice from a DataFrame.\n",
      "Try using .loc[row_indexer,col_indexer] = value instead\n",
      "\n",
      "See the caveats in the documentation: https://pandas.pydata.org/pandas-docs/stable/user_guide/indexing.html#returning-a-view-versus-a-copy\n",
      "  X_raw[\"race\"] = X_raw[\"race\"].map(race_transform).fillna(\"Other\").astype(\"category\")\n"
     ]
    }
   ],
   "source": [
    "def race_transform(input_str):\n",
    "    \"\"\"Reduce values to White, Black and Other.\"\"\"\n",
    "    result = \"Other\"\n",
    "    if input_str == \"White\" or input_str == \"Black\":\n",
    "        result = input_str\n",
    "    return result\n",
    "\n",
    "\n",
    "X_raw[\"race\"] = X_raw[\"race\"].map(race_transform).fillna(\"Other\").astype(\"category\")\n",
    "print(np.unique(X_raw[\"race\"]))"
   ]
  },
  {
   "cell_type": "markdown",
   "metadata": {},
   "source": [
    "Now, we manufacture the columns for the credit score band and requested\n",
    "loan size. These are wholly constructed, and not part of the actual\n",
    "dataset in any way. They are simply for illustrative purposes.\n"
   ]
  },
  {
   "cell_type": "code",
   "execution_count": 5,
   "metadata": {},
   "outputs": [
    {
     "name": "stderr",
     "output_type": "stream",
     "text": [
      "C:\\Users\\Yerin\\AppData\\Local\\Temp\\ipykernel_46480\\489585608.py:27: SettingWithCopyWarning: \n",
      "A value is trying to be set on a copy of a slice from a DataFrame.\n",
      "Try using .loc[row_indexer,col_indexer] = value instead\n",
      "\n",
      "See the caveats in the documentation: https://pandas.pydata.org/pandas-docs/stable/user_guide/indexing.html#returning-a-view-versus-a-copy\n",
      "  A[\"Credit Score\"] = col_credit\n",
      "C:\\Users\\Yerin\\AppData\\Local\\Temp\\ipykernel_46480\\489585608.py:28: SettingWithCopyWarning: \n",
      "A value is trying to be set on a copy of a slice from a DataFrame.\n",
      "Try using .loc[row_indexer,col_indexer] = value instead\n",
      "\n",
      "See the caveats in the documentation: https://pandas.pydata.org/pandas-docs/stable/user_guide/indexing.html#returning-a-view-versus-a-copy\n",
      "  A[\"Loan Size\"] = col_loan_size\n"
     ]
    },
    {
     "data": {
      "text/html": [
       "<div>\n",
       "<style scoped>\n",
       "    .dataframe tbody tr th:only-of-type {\n",
       "        vertical-align: middle;\n",
       "    }\n",
       "\n",
       "    .dataframe tbody tr th {\n",
       "        vertical-align: top;\n",
       "    }\n",
       "\n",
       "    .dataframe thead th {\n",
       "        text-align: right;\n",
       "    }\n",
       "</style>\n",
       "<table border=\"1\" class=\"dataframe\">\n",
       "  <thead>\n",
       "    <tr style=\"text-align: right;\">\n",
       "      <th></th>\n",
       "      <th>race</th>\n",
       "      <th>sex</th>\n",
       "      <th>Credit Score</th>\n",
       "      <th>Loan Size</th>\n",
       "    </tr>\n",
       "  </thead>\n",
       "  <tbody>\n",
       "    <tr>\n",
       "      <th>0</th>\n",
       "      <td>Black</td>\n",
       "      <td>Male</td>\n",
       "      <td>Low</td>\n",
       "      <td>Large</td>\n",
       "    </tr>\n",
       "    <tr>\n",
       "      <th>1</th>\n",
       "      <td>White</td>\n",
       "      <td>Male</td>\n",
       "      <td>Medium</td>\n",
       "      <td>Small</td>\n",
       "    </tr>\n",
       "    <tr>\n",
       "      <th>2</th>\n",
       "      <td>White</td>\n",
       "      <td>Male</td>\n",
       "      <td>Medium</td>\n",
       "      <td>Small</td>\n",
       "    </tr>\n",
       "    <tr>\n",
       "      <th>3</th>\n",
       "      <td>Black</td>\n",
       "      <td>Male</td>\n",
       "      <td>Medium</td>\n",
       "      <td>Large</td>\n",
       "    </tr>\n",
       "    <tr>\n",
       "      <th>4</th>\n",
       "      <td>White</td>\n",
       "      <td>Female</td>\n",
       "      <td>Low</td>\n",
       "      <td>Small</td>\n",
       "    </tr>\n",
       "    <tr>\n",
       "      <th>...</th>\n",
       "      <td>...</td>\n",
       "      <td>...</td>\n",
       "      <td>...</td>\n",
       "      <td>...</td>\n",
       "    </tr>\n",
       "    <tr>\n",
       "      <th>48837</th>\n",
       "      <td>White</td>\n",
       "      <td>Female</td>\n",
       "      <td>Medium</td>\n",
       "      <td>Small</td>\n",
       "    </tr>\n",
       "    <tr>\n",
       "      <th>48838</th>\n",
       "      <td>White</td>\n",
       "      <td>Male</td>\n",
       "      <td>Medium</td>\n",
       "      <td>Large</td>\n",
       "    </tr>\n",
       "    <tr>\n",
       "      <th>48839</th>\n",
       "      <td>White</td>\n",
       "      <td>Female</td>\n",
       "      <td>High</td>\n",
       "      <td>Small</td>\n",
       "    </tr>\n",
       "    <tr>\n",
       "      <th>48840</th>\n",
       "      <td>White</td>\n",
       "      <td>Male</td>\n",
       "      <td>Low</td>\n",
       "      <td>Small</td>\n",
       "    </tr>\n",
       "    <tr>\n",
       "      <th>48841</th>\n",
       "      <td>White</td>\n",
       "      <td>Female</td>\n",
       "      <td>Medium</td>\n",
       "      <td>Small</td>\n",
       "    </tr>\n",
       "  </tbody>\n",
       "</table>\n",
       "<p>48842 rows × 4 columns</p>\n",
       "</div>"
      ],
      "text/plain": [
       "        race     sex Credit Score Loan Size\n",
       "0      Black    Male          Low     Large\n",
       "1      White    Male       Medium     Small\n",
       "2      White    Male       Medium     Small\n",
       "3      Black    Male       Medium     Large\n",
       "4      White  Female          Low     Small\n",
       "...      ...     ...          ...       ...\n",
       "48837  White  Female       Medium     Small\n",
       "48838  White    Male       Medium     Large\n",
       "48839  White  Female         High     Small\n",
       "48840  White    Male          Low     Small\n",
       "48841  White  Female       Medium     Small\n",
       "\n",
       "[48842 rows x 4 columns]"
      ]
     },
     "execution_count": 5,
     "metadata": {},
     "output_type": "execute_result"
    }
   ],
   "source": [
    "def marriage_transform(m_s_string):\n",
    "    \"\"\"Perform some simple manipulations.\"\"\"\n",
    "    result = \"Low\"\n",
    "    if m_s_string.startswith(\"Married\"):\n",
    "        result = \"Medium\"\n",
    "    elif m_s_string.startswith(\"Widowed\"):\n",
    "        result = \"High\"\n",
    "    return result\n",
    "\n",
    "\n",
    "def occupation_transform(occ_string):\n",
    "    \"\"\"Perform some simple manipulations.\"\"\"\n",
    "    result = \"Small\"\n",
    "    # The isinstance check is to guard against 'missing'\n",
    "    # data marked with NaN\n",
    "    if not isinstance(occ_string, float) and occ_string.startswith(\"Machine\"):\n",
    "        result = \"Large\"\n",
    "    return result\n",
    "\n",
    "\n",
    "col_credit = X_raw[\"marital-status\"].map(marriage_transform).fillna(\"Low\")\n",
    "col_credit.name = \"Credit Score\"\n",
    "col_loan_size = X_raw[\"occupation\"].map(occupation_transform).fillna(\"Small\")\n",
    "col_loan_size.name = \"Loan Size\"\n",
    "\n",
    "A = X_raw[[\"race\", \"sex\"]]\n",
    "A[\"Credit Score\"] = col_credit\n",
    "A[\"Loan Size\"] = col_loan_size\n",
    "A"
   ]
  },
  {
   "cell_type": "markdown",
   "metadata": {},
   "source": [
    "Now that we have imported our dataset and manufactured a few features,\n",
    "we can perform some more conventional processing. To avoid the problem\n",
    "of [data\n",
    "leakage](https://en.wikipedia.org/wiki/Leakage_(machine_learning)), we\n",
    "need to split the data into training and test sets before applying any\n",
    "transforms or scaling:\n"
   ]
  },
  {
   "cell_type": "code",
   "execution_count": 6,
   "metadata": {},
   "outputs": [],
   "source": [
    "(X_train, X_test, y_train, y_test, A_train, A_test) = train_test_split(\n",
    "    X_raw, y, A, test_size=0.3, random_state=54321, stratify=y\n",
    ")\n",
    "\n",
    "# Ensure indices are aligned between X, y and A,\n",
    "# after all the slicing and splitting of DataFrames\n",
    "# and Series\n",
    "\n",
    "X_train = X_train.reset_index(drop=True)\n",
    "X_test = X_test.reset_index(drop=True)\n",
    "y_train = y_train.reset_index(drop=True)\n",
    "y_test = y_test.reset_index(drop=True)\n",
    "A_train = A_train.reset_index(drop=True)\n",
    "A_test = A_test.reset_index(drop=True)"
   ]
  },
  {
   "cell_type": "markdown",
   "metadata": {},
   "source": [
    "Next, we build two `~sklearn.pipeline.Pipeline`{.interpreted-text\n",
    "role=\"class\"} objects to process the columns, one for numeric data, and\n",
    "the other for categorical data. Both impute missing values; the\n",
    "difference is whether the data are scaled (numeric columns) or one-hot\n",
    "encoded (categorical columns). Imputation of missing values should\n",
    "generally be done with care, since it could potentially introduce\n",
    "biases. Of course, removing rows with missing data could also cause\n",
    "trouble, if particular subgroups have poorer data quality.\n"
   ]
  },
  {
   "cell_type": "code",
   "execution_count": 7,
   "metadata": {},
   "outputs": [],
   "source": [
    "numeric_transformer = Pipeline(\n",
    "    steps=[(\"impute\", SimpleImputer()), (\"scaler\", StandardScaler())]\n",
    ")\n",
    "categorical_transformer = Pipeline(\n",
    "    [\n",
    "        (\"impute\", SimpleImputer(strategy=\"most_frequent\")),\n",
    "        (\"ohe\", OneHotEncoder(handle_unknown=\"ignore\")),\n",
    "    ]\n",
    ")\n",
    "preprocessor = ColumnTransformer(\n",
    "    transformers=[\n",
    "        (\"num\", numeric_transformer, selector(dtype_exclude=\"category\")),\n",
    "        (\"cat\", categorical_transformer, selector(dtype_include=\"category\")),\n",
    "    ]\n",
    ")"
   ]
  },
  {
   "cell_type": "markdown",
   "metadata": {},
   "source": [
    "With our preprocessor defined, we can now build a new pipeline which\n",
    "includes an Estimator:\n"
   ]
  },
  {
   "cell_type": "code",
   "execution_count": 8,
   "metadata": {},
   "outputs": [],
   "source": [
    "unmitigated_predictor = Pipeline(\n",
    "    steps=[\n",
    "        (\"preprocessor\", preprocessor),\n",
    "        (\"classifier\", LogisticRegression(solver=\"liblinear\", fit_intercept=True)),\n",
    "    ]\n",
    ")"
   ]
  },
  {
   "cell_type": "markdown",
   "metadata": {},
   "source": [
    "With the pipeline fully defined, we can first train it with the training\n",
    "data, and then generate predictions from the test data.\n"
   ]
  },
  {
   "cell_type": "code",
   "execution_count": 9,
   "metadata": {},
   "outputs": [],
   "source": [
    "unmitigated_predictor.fit(X_train, y_train)\n",
    "y_pred = unmitigated_predictor.predict(X_test)"
   ]
  },
  {
   "cell_type": "markdown",
   "metadata": {},
   "source": [
    "Analysing the Model with Metrics\n",
    "================================\n",
    "\n",
    "After our data manipulations and model training, we have the following\n",
    "from our test set:\n",
    "\n",
    "-   A vector of true values called `y_test`\n",
    "-   A vector of model predictions called `y_pred`\n",
    "-   A DataFrame of categorical features relevant to fairness called\n",
    "    `A_test`\n",
    "\n",
    "In a traditional model analysis, we would now look at some metrics\n",
    "evaluated on the entire dataset. Suppose in this case, the relevant\n",
    "metrics are `fairlearn.metrics.selection_rate`{.interpreted-text\n",
    "role=\"func\"} and `sklearn.metrics.fbeta_score`{.interpreted-text\n",
    "role=\"func\"} (with `beta=0.6`). We can evaluate these metrics directly:\n"
   ]
  },
  {
   "cell_type": "code",
   "execution_count": 10,
   "metadata": {},
   "outputs": [
    {
     "name": "stdout",
     "output_type": "stream",
     "text": [
      "Selection Rate: 0.1947041561454992\n",
      "fbeta: 0.6827826864569057\n"
     ]
    }
   ],
   "source": [
    "print(\"Selection Rate:\", selection_rate(y_test, y_pred))\n",
    "print(\"fbeta:\", skm.fbeta_score(y_test, y_pred, beta=0.6))"
   ]
  },
  {
   "cell_type": "markdown",
   "metadata": {},
   "source": [
    "We know that there are sensitive features in our data, and we want to\n",
    "ensure that we\\'re not harming individuals due to membership in any of\n",
    "these groups. For this purpose, Fairlearn provides the\n",
    "`fairlearn.metrics.MetricFrame`{.interpreted-text role=\"class\"} class.\n",
    "Let us construct an instance of this class, and then look at its\n",
    "capabilities:\n"
   ]
  },
  {
   "cell_type": "code",
   "execution_count": 11,
   "metadata": {},
   "outputs": [],
   "source": [
    "fbeta_06 = functools.partial(skm.fbeta_score, beta=0.6, zero_division=1)\n",
    "\n",
    "metric_fns = {\"selection_rate\": selection_rate, \"fbeta_06\": fbeta_06, \"count\": count}\n",
    "\n",
    "grouped_on_sex = MetricFrame(\n",
    "    metrics=metric_fns, y_true=y_test, y_pred=y_pred, sensitive_features=A_test[\"sex\"]\n",
    ")"
   ]
  },
  {
   "cell_type": "markdown",
   "metadata": {},
   "source": [
    "The `fairlearn.metrics.MetricFrame`{.interpreted-text role=\"class\"}\n",
    "object requires a minimum of four arguments:\n",
    "\n",
    "1.  The underlying metric function(s) to be evaluated\n",
    "2.  The true values\n",
    "3.  The predicted values\n",
    "4.  The sensitive feature values\n",
    "\n",
    "These are all passed as arguments to the constructor. If more than one\n",
    "underlying metric is required (as in this case), then we must provide\n",
    "them in a dictionary.\n",
    "\n",
    "The underlying metrics must have a signature `fn(y_true, y_pred)`, so we\n",
    "have to use `functools.partial`{.interpreted-text role=\"func\"} on\n",
    "`fbeta_score()` to furnish `beta=0.6` (we will show how to pass in extra\n",
    "array arguments such as sample weights shortly).\n",
    "\n",
    "We will now take a closer look at the\n",
    "`fairlearn.metrics.MetricFrame`{.interpreted-text role=\"class\"} object.\n",
    "First, there is the `overall` property, which contains the metrics\n",
    "evaluated on the entire dataset. We see that this contains the same\n",
    "values calculated above:\n"
   ]
  },
  {
   "cell_type": "code",
   "execution_count": 12,
   "metadata": {},
   "outputs": [
    {
     "name": "stdout",
     "output_type": "stream",
     "text": [
      "selection_rate        0.194704\n",
      "fbeta_06              0.682783\n",
      "count             14653.000000\n",
      "dtype: float64\n"
     ]
    }
   ],
   "source": [
    "assert grouped_on_sex.overall[\"selection_rate\"] == selection_rate(y_test, y_pred)\n",
    "assert grouped_on_sex.overall[\"fbeta_06\"] == skm.fbeta_score(y_test, y_pred, beta=0.6)\n",
    "print(grouped_on_sex.overall)"
   ]
  },
  {
   "cell_type": "markdown",
   "metadata": {},
   "source": [
    "The other property in the\n",
    "`fairlearn.metrics.MetricFrame`{.interpreted-text role=\"class\"} object\n",
    "is `by_group`. This contains the metrics evaluated on each subgroup\n",
    "defined by the categories in the `sensitive_features=` argument. Note\n",
    "that `fairlearn.metrics.count`{.interpreted-text role=\"func\"} can be\n",
    "used to display the number of data points in each subgroup. In this\n",
    "case, we have results for males and females:\n"
   ]
  },
  {
   "cell_type": "code",
   "execution_count": 13,
   "metadata": {},
   "outputs": [
    {
     "data": {
      "text/html": [
       "<div>\n",
       "<style scoped>\n",
       "    .dataframe tbody tr th:only-of-type {\n",
       "        vertical-align: middle;\n",
       "    }\n",
       "\n",
       "    .dataframe tbody tr th {\n",
       "        vertical-align: top;\n",
       "    }\n",
       "\n",
       "    .dataframe thead th {\n",
       "        text-align: right;\n",
       "    }\n",
       "</style>\n",
       "<table border=\"1\" class=\"dataframe\">\n",
       "  <thead>\n",
       "    <tr style=\"text-align: right;\">\n",
       "      <th></th>\n",
       "      <th>selection_rate</th>\n",
       "      <th>fbeta_06</th>\n",
       "      <th>count</th>\n",
       "    </tr>\n",
       "    <tr>\n",
       "      <th>sex</th>\n",
       "      <th></th>\n",
       "      <th></th>\n",
       "      <th></th>\n",
       "    </tr>\n",
       "  </thead>\n",
       "  <tbody>\n",
       "    <tr>\n",
       "      <th>Female</th>\n",
       "      <td>0.06883</td>\n",
       "      <td>0.634014</td>\n",
       "      <td>4838.0</td>\n",
       "    </tr>\n",
       "    <tr>\n",
       "      <th>Male</th>\n",
       "      <td>0.25675</td>\n",
       "      <td>0.689789</td>\n",
       "      <td>9815.0</td>\n",
       "    </tr>\n",
       "  </tbody>\n",
       "</table>\n",
       "</div>"
      ],
      "text/plain": [
       "        selection_rate  fbeta_06   count\n",
       "sex                                     \n",
       "Female         0.06883  0.634014  4838.0\n",
       "Male           0.25675  0.689789  9815.0"
      ]
     },
     "execution_count": 13,
     "metadata": {},
     "output_type": "execute_result"
    }
   ],
   "source": [
    "grouped_on_sex.by_group"
   ]
  },
  {
   "cell_type": "markdown",
   "metadata": {},
   "source": [
    "We can immediately see a substantial disparity in the selection rate\n",
    "between males and females.\n",
    "\n",
    "We can also create another\n",
    "`fairlearn.metrics.MetricFrame`{.interpreted-text role=\"class\"} object\n",
    "using race as the sensitive feature:\n"
   ]
  },
  {
   "cell_type": "code",
   "execution_count": 14,
   "metadata": {},
   "outputs": [],
   "source": [
    "grouped_on_race = MetricFrame(\n",
    "    metrics=metric_fns, y_true=y_test, y_pred=y_pred, sensitive_features=A_test[\"race\"]\n",
    ")"
   ]
  },
  {
   "cell_type": "markdown",
   "metadata": {},
   "source": [
    "The `overall` property is unchanged:\n"
   ]
  },
  {
   "cell_type": "code",
   "execution_count": 15,
   "metadata": {},
   "outputs": [],
   "source": [
    "assert (grouped_on_sex.overall == grouped_on_race.overall).all()"
   ]
  },
  {
   "cell_type": "markdown",
   "metadata": {},
   "source": [
    "The `by_group` property now contains the metrics evaluated based on the\n",
    "\\'race\\' column:\n"
   ]
  },
  {
   "cell_type": "code",
   "execution_count": 16,
   "metadata": {},
   "outputs": [
    {
     "data": {
      "text/html": [
       "<div>\n",
       "<style scoped>\n",
       "    .dataframe tbody tr th:only-of-type {\n",
       "        vertical-align: middle;\n",
       "    }\n",
       "\n",
       "    .dataframe tbody tr th {\n",
       "        vertical-align: top;\n",
       "    }\n",
       "\n",
       "    .dataframe thead th {\n",
       "        text-align: right;\n",
       "    }\n",
       "</style>\n",
       "<table border=\"1\" class=\"dataframe\">\n",
       "  <thead>\n",
       "    <tr style=\"text-align: right;\">\n",
       "      <th></th>\n",
       "      <th>selection_rate</th>\n",
       "      <th>fbeta_06</th>\n",
       "      <th>count</th>\n",
       "    </tr>\n",
       "    <tr>\n",
       "      <th>race</th>\n",
       "      <th></th>\n",
       "      <th></th>\n",
       "      <th></th>\n",
       "    </tr>\n",
       "  </thead>\n",
       "  <tbody>\n",
       "    <tr>\n",
       "      <th>Black</th>\n",
       "      <td>0.068198</td>\n",
       "      <td>0.592125</td>\n",
       "      <td>1437.0</td>\n",
       "    </tr>\n",
       "    <tr>\n",
       "      <th>Other</th>\n",
       "      <td>0.167630</td>\n",
       "      <td>0.693717</td>\n",
       "      <td>692.0</td>\n",
       "    </tr>\n",
       "    <tr>\n",
       "      <th>White</th>\n",
       "      <td>0.210715</td>\n",
       "      <td>0.686081</td>\n",
       "      <td>12524.0</td>\n",
       "    </tr>\n",
       "  </tbody>\n",
       "</table>\n",
       "</div>"
      ],
      "text/plain": [
       "       selection_rate  fbeta_06    count\n",
       "race                                    \n",
       "Black        0.068198  0.592125   1437.0\n",
       "Other        0.167630  0.693717    692.0\n",
       "White        0.210715  0.686081  12524.0"
      ]
     },
     "execution_count": 16,
     "metadata": {},
     "output_type": "execute_result"
    }
   ],
   "source": [
    "grouped_on_race.by_group"
   ]
  },
  {
   "cell_type": "markdown",
   "metadata": {},
   "source": [
    "We see that there is also a significant disparity in selection rates\n",
    "when grouping by race.\n"
   ]
  },
  {
   "cell_type": "markdown",
   "metadata": {},
   "source": [
    "Sample weights and other arrays\n",
    "===============================\n",
    "\n",
    "We noted above that the underlying metric functions passed to the\n",
    "`fairlearn.metrics.MetricFrame`{.interpreted-text role=\"class\"}\n",
    "constructor need to be of the form `fn(y_true, y_pred)` - we do not\n",
    "support scalar arguments such as `pos_label=` or `beta=` in the\n",
    "constructor. Such arguments should be bound into a new function using\n",
    "`functools.partial`{.interpreted-text role=\"func\"}, and the result\n",
    "passed in. However, we do support arguments which have one entry for\n",
    "each sample, with an array of sample weights being the most common\n",
    "example. These are divided into subgroups along with `y_true` and\n",
    "`y_pred`, and passed along to the underlying metric.\n",
    "\n",
    "To use these arguments, we pass in a dictionary as the `sample_params=`\n",
    "argument of the constructor. Let us generate some random weights, and\n",
    "pass these along:\n"
   ]
  },
  {
   "cell_type": "code",
   "execution_count": 17,
   "metadata": {},
   "outputs": [],
   "source": [
    "random_weights = np.random.rand(len(y_test))\n",
    "\n",
    "example_sample_params = {\n",
    "    \"selection_rate\": {\"sample_weight\": random_weights},\n",
    "    \"fbeta_06\": {\"sample_weight\": random_weights},\n",
    "}\n",
    "\n",
    "\n",
    "grouped_with_weights = MetricFrame(\n",
    "    metrics=metric_fns,\n",
    "    y_true=y_test,\n",
    "    y_pred=y_pred,\n",
    "    sensitive_features=A_test[\"sex\"],\n",
    "    sample_params=example_sample_params,\n",
    ")"
   ]
  },
  {
   "cell_type": "markdown",
   "metadata": {},
   "source": [
    "We can inspect the overall values, and check they are as expected:\n"
   ]
  },
  {
   "cell_type": "code",
   "execution_count": 18,
   "metadata": {},
   "outputs": [
    {
     "name": "stdout",
     "output_type": "stream",
     "text": [
      "selection_rate        0.195091\n",
      "fbeta_06              0.680907\n",
      "count             14653.000000\n",
      "dtype: float64\n"
     ]
    }
   ],
   "source": [
    "assert grouped_with_weights.overall[\"selection_rate\"] == selection_rate(\n",
    "    y_test, y_pred, sample_weight=random_weights\n",
    ")\n",
    "assert grouped_with_weights.overall[\"fbeta_06\"] == skm.fbeta_score(\n",
    "    y_test, y_pred, beta=0.6, sample_weight=random_weights\n",
    ")\n",
    "print(grouped_with_weights.overall)"
   ]
  },
  {
   "cell_type": "markdown",
   "metadata": {},
   "source": [
    "We can also see the effect on the metric being evaluated on the\n",
    "subgroups:\n"
   ]
  },
  {
   "cell_type": "code",
   "execution_count": 19,
   "metadata": {},
   "outputs": [
    {
     "data": {
      "text/html": [
       "<div>\n",
       "<style scoped>\n",
       "    .dataframe tbody tr th:only-of-type {\n",
       "        vertical-align: middle;\n",
       "    }\n",
       "\n",
       "    .dataframe tbody tr th {\n",
       "        vertical-align: top;\n",
       "    }\n",
       "\n",
       "    .dataframe thead th {\n",
       "        text-align: right;\n",
       "    }\n",
       "</style>\n",
       "<table border=\"1\" class=\"dataframe\">\n",
       "  <thead>\n",
       "    <tr style=\"text-align: right;\">\n",
       "      <th></th>\n",
       "      <th>selection_rate</th>\n",
       "      <th>fbeta_06</th>\n",
       "      <th>count</th>\n",
       "    </tr>\n",
       "    <tr>\n",
       "      <th>sex</th>\n",
       "      <th></th>\n",
       "      <th></th>\n",
       "      <th></th>\n",
       "    </tr>\n",
       "  </thead>\n",
       "  <tbody>\n",
       "    <tr>\n",
       "      <th>Female</th>\n",
       "      <td>0.068141</td>\n",
       "      <td>0.647563</td>\n",
       "      <td>4838.0</td>\n",
       "    </tr>\n",
       "    <tr>\n",
       "      <th>Male</th>\n",
       "      <td>0.258547</td>\n",
       "      <td>0.685701</td>\n",
       "      <td>9815.0</td>\n",
       "    </tr>\n",
       "  </tbody>\n",
       "</table>\n",
       "</div>"
      ],
      "text/plain": [
       "        selection_rate  fbeta_06   count\n",
       "sex                                     \n",
       "Female        0.068141  0.647563  4838.0\n",
       "Male          0.258547  0.685701  9815.0"
      ]
     },
     "execution_count": 19,
     "metadata": {},
     "output_type": "execute_result"
    }
   ],
   "source": [
    "grouped_with_weights.by_group"
   ]
  },
  {
   "cell_type": "markdown",
   "metadata": {},
   "source": [
    "Quantifying Disparities\n",
    "=======================\n",
    "\n",
    "We now know that our model is selecting individuals who are female far\n",
    "less often than individuals who are male. There is a similar effect when\n",
    "examining the results by race, with blacks being selected far less often\n",
    "than whites (and those classified as \\'other\\'). However, there are many\n",
    "cases where presenting all these numbers at once will not be useful (for\n",
    "example, a high level dashboard which is monitoring model performance).\n",
    "Fairlearn provides several means of aggregating metrics across the\n",
    "subgroups, so that disparities can be readily quantified.\n",
    "\n",
    "The simplest of these aggregations is `group_min()`, which reports the\n",
    "minimum value seen for a subgroup for each underlying metric (we also\n",
    "provide `group_max()`). This is useful if there is a mandate that \\\"no\n",
    "subgroup should have an `fbeta_score()` of less than 0.6.\\\" We can\n",
    "evaluate the minimum values easily:\n"
   ]
  },
  {
   "cell_type": "code",
   "execution_count": 20,
   "metadata": {},
   "outputs": [
    {
     "data": {
      "text/plain": [
       "selection_rate    0.068198\n",
       "fbeta_06          0.592125\n",
       "count                692.0\n",
       "dtype: object"
      ]
     },
     "execution_count": 20,
     "metadata": {},
     "output_type": "execute_result"
    }
   ],
   "source": [
    "grouped_on_race.group_min()"
   ]
  },
  {
   "cell_type": "markdown",
   "metadata": {},
   "source": [
    "As noted above, the selection rates varies greatly by race and by sex.\n",
    "This can be quantified in terms of a difference between the subgroup\n",
    "with the highest value of the metric, and the subgroup with the lowest\n",
    "value. For this, we provide the method\n",
    "`difference(method='between_groups)`:\n"
   ]
  },
  {
   "cell_type": "code",
   "execution_count": 21,
   "metadata": {},
   "outputs": [
    {
     "data": {
      "text/plain": [
       "selection_rate        0.142518\n",
       "fbeta_06              0.101591\n",
       "count             11832.000000\n",
       "dtype: float64"
      ]
     },
     "execution_count": 21,
     "metadata": {},
     "output_type": "execute_result"
    }
   ],
   "source": [
    "grouped_on_race.difference(method=\"between_groups\")"
   ]
  },
  {
   "cell_type": "markdown",
   "metadata": {},
   "source": [
    "We can also evaluate the difference relative to the corresponding\n",
    "overall value of the metric. In this case we take the absolute value, so\n",
    "that the result is always positive:\n"
   ]
  },
  {
   "cell_type": "code",
   "execution_count": 22,
   "metadata": {},
   "outputs": [
    {
     "data": {
      "text/plain": [
       "selection_rate        0.126507\n",
       "fbeta_06              0.090657\n",
       "count             13961.000000\n",
       "dtype: float64"
      ]
     },
     "execution_count": 22,
     "metadata": {},
     "output_type": "execute_result"
    }
   ],
   "source": [
    "grouped_on_race.difference(method=\"to_overall\")"
   ]
  },
  {
   "cell_type": "markdown",
   "metadata": {},
   "source": [
    "There are situations where knowing the ratios of the metrics evaluated\n",
    "on the subgroups is more useful. For this we have the `ratio()` method.\n",
    "We can take the ratios between the minimum and maximum values of each\n",
    "metric:\n"
   ]
  },
  {
   "cell_type": "code",
   "execution_count": 23,
   "metadata": {},
   "outputs": [
    {
     "data": {
      "text/plain": [
       "selection_rate    0.323648\n",
       "fbeta_06          0.853555\n",
       "count             0.055254\n",
       "dtype: float64"
      ]
     },
     "execution_count": 23,
     "metadata": {},
     "output_type": "execute_result"
    }
   ],
   "source": [
    "grouped_on_race.ratio(method=\"between_groups\")"
   ]
  },
  {
   "cell_type": "markdown",
   "metadata": {},
   "source": [
    "We can also compute the ratios relative to the overall value for each\n",
    "metric. Analogous to the differences, the ratios are always in the range\n",
    "$[0,1]$:\n"
   ]
  },
  {
   "cell_type": "code",
   "execution_count": 24,
   "metadata": {},
   "outputs": [
    {
     "data": {
      "text/plain": [
       "selection_rate    0.350263\n",
       "fbeta_06          0.867223\n",
       "count             0.047226\n",
       "dtype: float64"
      ]
     },
     "execution_count": 24,
     "metadata": {},
     "output_type": "execute_result"
    }
   ],
   "source": [
    "grouped_on_race.ratio(method=\"to_overall\")"
   ]
  },
  {
   "cell_type": "markdown",
   "metadata": {},
   "source": [
    "Intersections of Features\n",
    "=========================\n",
    "\n",
    "So far we have only considered a single sensitive feature at a time, and\n",
    "we have already found some serious issues in our example data. However,\n",
    "sometimes serious issues can be hiding in intersections of features. For\n",
    "example, the [Gender Shades\n",
    "project](https://www.media.mit.edu/projects/gender-shades/overview/)\n",
    "found that facial recognition algorithms performed worse for blacks than\n",
    "whites, and also worse for women than men (despite overall high accuracy\n",
    "score). Moreover, performance on black females was *terrible*. We can\n",
    "examine the intersections of sensitive features by passing multiple\n",
    "columns to the `fairlearn.metrics.MetricFrame`{.interpreted-text\n",
    "role=\"class\"} constructor:\n"
   ]
  },
  {
   "cell_type": "code",
   "execution_count": 25,
   "metadata": {},
   "outputs": [],
   "source": [
    "from fairlearn.metrics import MetricFrame\n",
    "grouped_on_race_and_sex = MetricFrame(\n",
    "    metrics=metric_fns,\n",
    "    y_true=y_test,\n",
    "    y_pred=y_pred,\n",
    "    sensitive_features=A_test[[\"race\", \"sex\"]],\n",
    ")"
   ]
  },
  {
   "cell_type": "markdown",
   "metadata": {},
   "source": [
    "The overall values are unchanged, but the `by_group` table now shows the\n",
    "intersections between subgroups:\n"
   ]
  },
  {
   "cell_type": "code",
   "execution_count": 26,
   "metadata": {},
   "outputs": [
    {
     "data": {
      "text/html": [
       "<div>\n",
       "<style scoped>\n",
       "    .dataframe tbody tr th:only-of-type {\n",
       "        vertical-align: middle;\n",
       "    }\n",
       "\n",
       "    .dataframe tbody tr th {\n",
       "        vertical-align: top;\n",
       "    }\n",
       "\n",
       "    .dataframe thead th {\n",
       "        text-align: right;\n",
       "    }\n",
       "</style>\n",
       "<table border=\"1\" class=\"dataframe\">\n",
       "  <thead>\n",
       "    <tr style=\"text-align: right;\">\n",
       "      <th></th>\n",
       "      <th></th>\n",
       "      <th>selection_rate</th>\n",
       "      <th>fbeta_06</th>\n",
       "      <th>count</th>\n",
       "    </tr>\n",
       "    <tr>\n",
       "      <th>race</th>\n",
       "      <th>sex</th>\n",
       "      <th></th>\n",
       "      <th></th>\n",
       "      <th></th>\n",
       "    </tr>\n",
       "  </thead>\n",
       "  <tbody>\n",
       "    <tr>\n",
       "      <th rowspan=\"2\" valign=\"top\">Black</th>\n",
       "      <th>Female</th>\n",
       "      <td>0.032258</td>\n",
       "      <td>0.630316</td>\n",
       "      <td>713.0</td>\n",
       "    </tr>\n",
       "    <tr>\n",
       "      <th>Male</th>\n",
       "      <td>0.103591</td>\n",
       "      <td>0.580624</td>\n",
       "      <td>724.0</td>\n",
       "    </tr>\n",
       "    <tr>\n",
       "      <th rowspan=\"2\" valign=\"top\">Other</th>\n",
       "      <th>Female</th>\n",
       "      <td>0.070866</td>\n",
       "      <td>0.503704</td>\n",
       "      <td>254.0</td>\n",
       "    </tr>\n",
       "    <tr>\n",
       "      <th>Male</th>\n",
       "      <td>0.223744</td>\n",
       "      <td>0.728972</td>\n",
       "      <td>438.0</td>\n",
       "    </tr>\n",
       "    <tr>\n",
       "      <th rowspan=\"2\" valign=\"top\">White</th>\n",
       "      <th>Female</th>\n",
       "      <td>0.075433</td>\n",
       "      <td>0.642076</td>\n",
       "      <td>3871.0</td>\n",
       "    </tr>\n",
       "    <tr>\n",
       "      <th>Male</th>\n",
       "      <td>0.271235</td>\n",
       "      <td>0.692069</td>\n",
       "      <td>8653.0</td>\n",
       "    </tr>\n",
       "  </tbody>\n",
       "</table>\n",
       "</div>"
      ],
      "text/plain": [
       "              selection_rate  fbeta_06   count\n",
       "race  sex                                     \n",
       "Black Female        0.032258  0.630316   713.0\n",
       "      Male          0.103591  0.580624   724.0\n",
       "Other Female        0.070866  0.503704   254.0\n",
       "      Male          0.223744  0.728972   438.0\n",
       "White Female        0.075433  0.642076  3871.0\n",
       "      Male          0.271235  0.692069  8653.0"
      ]
     },
     "execution_count": 26,
     "metadata": {},
     "output_type": "execute_result"
    }
   ],
   "source": [
    "assert (grouped_on_race_and_sex.overall == grouped_on_race.overall).all()\n",
    "grouped_on_race_and_sex.by_group"
   ]
  },
  {
   "cell_type": "markdown",
   "metadata": {},
   "source": [
    "The aggregations are still performed across all subgroups for each\n",
    "metric, so each continues to reduce to a single value. If we look at the\n",
    "`group_min()`, we see that we violate the mandate we specified for the\n",
    "`fbeta_score()` suggested above (for females with a race of \\'Other\\' in\n",
    "fact):\n"
   ]
  },
  {
   "cell_type": "code",
   "execution_count": null,
   "metadata": {},
   "outputs": [],
   "source": [
    "grouped_on_race_and_sex.group_min()"
   ]
  },
  {
   "cell_type": "markdown",
   "metadata": {},
   "source": [
    "Looking at the `ratio()` method, we see that the disparity is worse\n",
    "(specifically between white males and black females, if we check in the\n",
    "`by_group` table):\n"
   ]
  },
  {
   "cell_type": "code",
   "execution_count": null,
   "metadata": {},
   "outputs": [],
   "source": [
    "grouped_on_race_and_sex.ratio(method=\"between_groups\")"
   ]
  },
  {
   "cell_type": "markdown",
   "metadata": {},
   "source": [
    "Control Features\n",
    "================\n",
    "\n",
    "There is a further way we can slice up our data. We have (*completely\n",
    "made up*) features for the individuals\\' credit scores (in three bands)\n",
    "and also the size of the loan requested (large or small). In our loan\n",
    "scenario, it is acceptable that individuals with high credit scores are\n",
    "selected more often than individuals with low credit scores. However,\n",
    "within each credit score band, we do not want a disparity between (say)\n",
    "black females and white males. To example these cases, we have the\n",
    "concept of *control features*.\n",
    "\n",
    "Control features are introduced by the `control_features=` argument to\n",
    "the `fairlearn.metrics.MetricFrame`{.interpreted-text role=\"class\"}\n",
    "object:\n"
   ]
  },
  {
   "cell_type": "code",
   "execution_count": null,
   "metadata": {},
   "outputs": [],
   "source": [
    "cond_credit_score = MetricFrame(\n",
    "    metrics=metric_fns,\n",
    "    y_true=y_test,\n",
    "    y_pred=y_pred,\n",
    "    sensitive_features=A_test[[\"race\", \"sex\"]],\n",
    "    control_features=A_test[\"Credit Score\"],\n",
    ")"
   ]
  },
  {
   "cell_type": "markdown",
   "metadata": {},
   "source": [
    "This has an immediate effect on the `overall` property. Instead of\n",
    "having one value for each metric, we now have a value for each unique\n",
    "value of the control feature:\n"
   ]
  },
  {
   "cell_type": "code",
   "execution_count": null,
   "metadata": {},
   "outputs": [],
   "source": [
    "cond_credit_score.overall"
   ]
  },
  {
   "cell_type": "markdown",
   "metadata": {},
   "source": [
    "The `by_group` property is similarly expanded:\n"
   ]
  },
  {
   "cell_type": "code",
   "execution_count": null,
   "metadata": {},
   "outputs": [],
   "source": [
    "cond_credit_score.by_group"
   ]
  },
  {
   "cell_type": "markdown",
   "metadata": {},
   "source": [
    "The aggregates are also evaluated once for each group identified by the\n",
    "control feature:\n"
   ]
  },
  {
   "cell_type": "code",
   "execution_count": null,
   "metadata": {},
   "outputs": [],
   "source": [
    "cond_credit_score.group_min()"
   ]
  },
  {
   "cell_type": "markdown",
   "metadata": {},
   "source": [
    "And:\n"
   ]
  },
  {
   "cell_type": "code",
   "execution_count": null,
   "metadata": {},
   "outputs": [],
   "source": [
    "cond_credit_score.ratio(method=\"between_groups\")"
   ]
  },
  {
   "cell_type": "markdown",
   "metadata": {},
   "source": [
    "In our data, we see that we have a dearth of positive results for high\n",
    "income non-whites, which significantly affects the aggregates.\n",
    "\n",
    "We can continue adding more control features:\n"
   ]
  },
  {
   "cell_type": "code",
   "execution_count": null,
   "metadata": {},
   "outputs": [],
   "source": [
    "cond_both = MetricFrame(\n",
    "    metrics=metric_fns,\n",
    "    y_true=y_test,\n",
    "    y_pred=y_pred,\n",
    "    sensitive_features=A_test[[\"race\", \"sex\"]],\n",
    "    control_features=A_test[[\"Loan Size\", \"Credit Score\"]],\n",
    ")"
   ]
  },
  {
   "cell_type": "markdown",
   "metadata": {},
   "source": [
    "The `overall` property now splits into more values:\n"
   ]
  },
  {
   "cell_type": "code",
   "execution_count": null,
   "metadata": {},
   "outputs": [],
   "source": [
    "cond_both.overall"
   ]
  },
  {
   "cell_type": "markdown",
   "metadata": {},
   "source": [
    "As does the `by_groups` property, where `NaN` values indicate that there\n",
    "were no samples in the cell:\n"
   ]
  },
  {
   "cell_type": "code",
   "execution_count": null,
   "metadata": {},
   "outputs": [],
   "source": [
    "cond_both.by_group"
   ]
  },
  {
   "cell_type": "markdown",
   "metadata": {},
   "source": [
    "The aggregates behave similarly. By this point, we are having\n",
    "significant issues with under-populated intersections. Consider:\n"
   ]
  },
  {
   "cell_type": "code",
   "execution_count": null,
   "metadata": {},
   "outputs": [],
   "source": [
    "def member_counts(y_true, y_pred):\n",
    "    assert len(y_true) == len(y_pred)\n",
    "    return len(y_true)\n",
    "\n",
    "\n",
    "counts = MetricFrame(\n",
    "    metrics=member_counts,\n",
    "    y_true=y_test,\n",
    "    y_pred=y_pred,\n",
    "    sensitive_features=A_test[[\"race\", \"sex\"]],\n",
    "    control_features=A_test[[\"Loan Size\", \"Credit Score\"]],\n",
    ")\n",
    "\n",
    "counts.by_group"
   ]
  },
  {
   "cell_type": "markdown",
   "metadata": {},
   "source": [
    "Recall that `NaN` indicates that there were no individuals in a cell -\n",
    "`member_counts()` will not even have been called.\n"
   ]
  },
  {
   "cell_type": "markdown",
   "metadata": {},
   "source": [
    "Exporting from MetricFrame\n",
    "==========================\n",
    "\n",
    "Sometimes, we need to extract our data for use in other tools. For this,\n",
    "we can use the :py`pandas.DataFrame.to_csv`{.interpreted-text\n",
    "role=\"meth\"} method, since the\n",
    ":py`~fairlearn.metrics.MetricFrame.by_group`{.interpreted-text\n",
    "role=\"meth\"} property will be a `pandas.DataFrame`{.interpreted-text\n",
    "role=\"class\"} (or in a few cases, it will be a\n",
    "`pandas.Series`{.interpreted-text role=\"class\"}, but that has a similar\n",
    ":py`~pandas.Series.to_csv`{.interpreted-text role=\"meth\"} method):\n"
   ]
  },
  {
   "cell_type": "code",
   "execution_count": null,
   "metadata": {},
   "outputs": [],
   "source": [
    "csv_output = cond_credit_score.by_group.to_csv()\n",
    "print(csv_output)"
   ]
  },
  {
   "cell_type": "markdown",
   "metadata": {},
   "source": [
    "The :py`pandas.DataFrame.to_csv`{.interpreted-text role=\"meth\"} method\n",
    "has a large number of arguments to control the exported CSV. For\n",
    "example, it can write directly to a CSV file, rather than returning a\n",
    "string (as shown above).\n",
    "\n",
    "The `~fairlearn.metrics.MetricFrame.overall`{.interpreted-text\n",
    "role=\"meth\"} property can be handled similarly, in the cases that it is\n",
    "not a scalar.\n"
   ]
  }
 ],
 "metadata": {
  "kernelspec": {
   "display_name": "Python 3 (ipykernel)",
   "language": "python",
   "name": "python3"
  },
  "language_info": {
   "codemirror_mode": {
    "name": "ipython",
    "version": 3
   },
   "file_extension": ".py",
   "mimetype": "text/x-python",
   "name": "python",
   "nbconvert_exporter": "python",
   "pygments_lexer": "ipython3",
   "version": "3.11.4"
  }
 },
 "nbformat": 4,
 "nbformat_minor": 1
}
